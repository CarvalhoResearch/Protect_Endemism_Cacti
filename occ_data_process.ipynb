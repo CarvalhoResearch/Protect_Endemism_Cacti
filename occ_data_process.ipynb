{
 "cells": [
  {
   "cell_type": "code",
   "execution_count": 20,
   "metadata": {},
   "outputs": [],
   "source": [
    "import pandas as pd\n",
    "from glob import glob\n",
    "import geopandas as gpd\n",
    "%matplotlib inline"
   ]
  },
  {
   "cell_type": "code",
   "execution_count": 4,
   "metadata": {},
   "outputs": [
    {
     "name": "stdout",
     "output_type": "stream",
     "text": [
      "/home/eduardo/projetos/endemic_vs_desmat/data/species-occurence/Melocactus sergipensis.csv\n",
      "/home/eduardo/projetos/endemic_vs_desmat/data/species-occurence/Melocactus inconcinnus.csv\n",
      "/home/eduardo/projetos/endemic_vs_desmat/data/species-occurence/Melocactus brederooianus.csv\n",
      "/home/eduardo/projetos/endemic_vs_desmat/data/species-occurence/Melocactus azureus.csv\n",
      "/home/eduardo/projetos/endemic_vs_desmat/data/species-occurence/Facheiroa cephaliomelana.csv\n",
      "/home/eduardo/projetos/endemic_vs_desmat/data/species-occurence/Facheiroa ulei.csv\n",
      "/home/eduardo/projetos/endemic_vs_desmat/data/species-occurence/Tacinga subcylindrica.csv\n",
      "/home/eduardo/projetos/endemic_vs_desmat/data/species-occurence/Pilosocereus azulensis.csv\n",
      "/home/eduardo/projetos/endemic_vs_desmat/data/species-occurence/Melocactus ferreophilus.csv\n",
      "/home/eduardo/projetos/endemic_vs_desmat/data/species-occurence/Coleocephalocereus decumbens.csv\n",
      "/home/eduardo/projetos/endemic_vs_desmat/data/species-occurence/Micranthocereus dolichospermaticus.csv\n",
      "/home/eduardo/projetos/endemic_vs_desmat/data/species-occurence/Pilosocereus aureispinus.csv\n",
      "/home/eduardo/projetos/endemic_vs_desmat/data/species-occurence/Coleocephalocereus purpureus.csv\n",
      "/home/eduardo/projetos/endemic_vs_desmat/data/species-occurence/Melocactus deinacanthus.csv\n",
      "/home/eduardo/projetos/endemic_vs_desmat/data/species-occurence/Pilosocereus splendidus.csv\n",
      "/home/eduardo/projetos/endemic_vs_desmat/data/species-occurence/Cereus saddianus.csv\n",
      "/home/eduardo/projetos/endemic_vs_desmat/data/species-occurence/Pilosocereus flexibilispinus.csv\n"
     ]
    }
   ],
   "source": [
    "for i in glob('/home/eduardo/projetos/endemic_vs_desmat/data/species-occurence/*'):\n",
    "    try:\n",
    "        data=pd.read_csv(i,usecols=['decimalLongitude','decimalLatitude','scientificName'])\n",
    "        data=data.dropna()\n",
    "        \n",
    "        if data.shape[0]<10:\n",
    "            print(i)\n",
    "    except:\n",
    "        print(i)"
   ]
  },
  {
   "cell_type": "code",
   "execution_count": 22,
   "metadata": {},
   "outputs": [],
   "source": [
    "d=[]\n",
    "for i in glob('/home/eduardo/projetos/endemic_vs_desmat/data/species-occurence/*'):\n",
    "\n",
    "    data=pd.read_csv(i,usecols=['decimalLongitude','decimalLatitude','scientificName'])\n",
    "    data=data.dropna()\n",
    "    species=data.shape[0]*[i.split('/')[-1].replace('.csv','')]\n",
    "    data['scientificName'] = species\n",
    "    data.columns=['scientificName', 'longitude', 'latitude']\n",
    "    d.append(data)\n",
    "data=pd.concat(d)\n",
    "    "
   ]
  },
  {
   "cell_type": "code",
   "execution_count": 24,
   "metadata": {},
   "outputs": [],
   "source": [
    "data.to_csv('//home/eduardo/projetos/endemic_vs_desmat/data/caatinga-cactaceae.csv')"
   ]
  },
  {
   "cell_type": "code",
   "execution_count": null,
   "metadata": {},
   "outputs": [],
   "source": []
  }
 ],
 "metadata": {
  "kernelspec": {
   "display_name": "Python 3",
   "language": "python",
   "name": "python3"
  },
  "language_info": {
   "codemirror_mode": {
    "name": "ipython",
    "version": 3
   },
   "file_extension": ".py",
   "mimetype": "text/x-python",
   "name": "python",
   "nbconvert_exporter": "python",
   "pygments_lexer": "ipython3",
   "version": "3.6.8"
  }
 },
 "nbformat": 4,
 "nbformat_minor": 2
}
